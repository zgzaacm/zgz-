{
 "cells": [
  {
   "cell_type": "markdown",
   "metadata": {},
   "source": [
    "# 安装mingus for py3\n",
    "\n",
    "** 不能直接pip 否则下载的只能用于py2 **\n",
    "\n",
    "在git下运行如下代码\n",
    "\n",
    "git clone https://github.com/edudobay/python-mingus.git\n",
    "\n",
    "cd python-mingus\n",
    "\n",
    "python setup.py install"
   ]
  },
  {
   "cell_type": "markdown",
   "metadata": {},
   "source": [
    "# mingus.core"
   ]
  },
  {
   "cell_type": "markdown",
   "metadata": {},
   "source": [
    "mingus的编写是出于对Python进行音乐处理的渴望：**简单但正确。**\n",
    "\n",
    "mingus.core位于程序包的核心，并介绍了第一个构建块：音符名称，偶然字符和int-to-note转换器（反之亦然）。"
   ]
  },
  {
   "cell_type": "code",
   "execution_count": 1,
   "metadata": {
    "collapsed": true
   },
   "outputs": [],
   "source": [
    "import mingus.core.notes as notes"
   ]
  },
  {
   "cell_type": "markdown",
   "metadata": {},
   "source": [
    "mingus中的notes由note（A ... G）表示，以及少量偶然字符accidentals（“＃”和“ b”）；\n",
    "\n",
    "其中“ b”降低而“＃”则提高半音阶。\n",
    "\n",
    "要测试任意字符串是否有效，我们可以使用notes.is_valid_note（str）。"
   ]
  },
  {
   "cell_type": "code",
   "execution_count": 2,
   "metadata": {},
   "outputs": [
    {
     "data": {
      "text/plain": [
       "True"
      ]
     },
     "execution_count": 2,
     "metadata": {},
     "output_type": "execute_result"
    }
   ],
   "source": [
    "notes.is_valid_note(\"G##\")"
   ]
  },
  {
   "cell_type": "code",
   "execution_count": 28,
   "metadata": {},
   "outputs": [
    {
     "data": {
      "text/plain": [
       "False"
      ]
     },
     "execution_count": 28,
     "metadata": {},
     "output_type": "execute_result"
    }
   ],
   "source": [
    "notes.is_valid_note(\"D #\")"
   ]
  },
  {
   "cell_type": "markdown",
   "metadata": {},
   "source": [
    "如果要清理杂乱的意外事件，可以使用**remove_redundant_accidentals（note）。**\n",
    "\n",
    "**游戏很有趣，直到有人受伤为止。**"
   ]
  },
  {
   "cell_type": "code",
   "execution_count": 29,
   "metadata": {},
   "outputs": [
    {
     "data": {
      "text/plain": [
       "'C#'"
      ]
     },
     "execution_count": 29,
     "metadata": {},
     "output_type": "execute_result"
    }
   ],
   "source": [
    "notes.remove_redundant_accidentals(\"C##b\")"
   ]
  },
  {
   "cell_type": "code",
   "execution_count": 30,
   "metadata": {},
   "outputs": [
    {
     "data": {
      "text/plain": [
       "'C'"
      ]
     },
     "execution_count": 30,
     "metadata": {},
     "output_type": "execute_result"
    }
   ],
   "source": [
    "notes.remove_redundant_accidentals(\"C#b#bb##b##bb\")"
   ]
  },
  {
   "cell_type": "markdown",
   "metadata": {},
   "source": [
    "** 音符转整数 **"
   ]
  },
  {
   "cell_type": "code",
   "execution_count": 31,
   "metadata": {},
   "outputs": [
    {
     "data": {
      "text/plain": [
       "2"
      ]
     },
     "execution_count": 31,
     "metadata": {},
     "output_type": "execute_result"
    }
   ],
   "source": [
    "notes.note_to_int(\"D\")"
   ]
  },
  {
   "cell_type": "code",
   "execution_count": 32,
   "metadata": {},
   "outputs": [
    {
     "data": {
      "text/plain": [
       "1"
      ]
     },
     "execution_count": 32,
     "metadata": {},
     "output_type": "execute_result"
    }
   ],
   "source": [
    "notes.note_to_int(\"Db\")"
   ]
  },
  {
   "cell_type": "code",
   "execution_count": 33,
   "metadata": {},
   "outputs": [
    {
     "data": {
      "text/plain": [
       "9"
      ]
     },
     "execution_count": 33,
     "metadata": {},
     "output_type": "execute_result"
    }
   ],
   "source": [
    "notes.note_to_int(\"A\")"
   ]
  },
  {
   "cell_type": "code",
   "execution_count": 34,
   "metadata": {},
   "outputs": [
    {
     "data": {
      "text/plain": [
       "10"
      ]
     },
     "execution_count": 34,
     "metadata": {},
     "output_type": "execute_result"
    }
   ],
   "source": [
    "notes.note_to_int(\"A#\")"
   ]
  },
  {
   "cell_type": "markdown",
   "metadata": {},
   "source": [
    "不同的note却返回同样的值，此时我们称这两个值为** 等音 enharmonic **\n",
    "\n",
    "因为它们听起来一样"
   ]
  },
  {
   "cell_type": "markdown",
   "metadata": {},
   "source": [
    "** 整型变为音符 **\n",
    "\n",
    "int_to_note"
   ]
  },
  {
   "cell_type": "code",
   "execution_count": 46,
   "metadata": {},
   "outputs": [
    {
     "name": "stdout",
     "output_type": "stream",
     "text": [
      "C\n",
      "C#\n",
      "D\n",
      "D#\n",
      "E\n",
      "F\n",
      "F#\n",
      "G\n",
      "G#\n",
      "A\n",
      "A#\n",
      "B\n"
     ]
    }
   ],
   "source": [
    "for i in range(12):\n",
    "    print(notes.int_to_note(i))"
   ]
  },
  {
   "cell_type": "code",
   "execution_count": 42,
   "metadata": {},
   "outputs": [
    {
     "data": {
      "text/plain": [
       "'C'"
      ]
     },
     "execution_count": 42,
     "metadata": {},
     "output_type": "execute_result"
    }
   ],
   "source": [
    "notes.int_to_note(0)"
   ]
  },
  {
   "cell_type": "code",
   "execution_count": 36,
   "metadata": {},
   "outputs": [
    {
     "data": {
      "text/plain": [
       "'C#'"
      ]
     },
     "execution_count": 36,
     "metadata": {},
     "output_type": "execute_result"
    }
   ],
   "source": [
    "notes.int_to_note(1)"
   ]
  },
  {
   "cell_type": "markdown",
   "metadata": {},
   "source": [
    "由于存在**等音**音符，因此不可能仅基于整数来创建声音从整型到音符的转换器。\n",
    "\n",
    "例如： 我们看到B和Cb均为11。它们听起来相同，但从理论上讲它们并不相同。\n",
    "\n",
    "由于间隔取决于音符名称，因此在建立和识别间隔以及因此的音阶和和弦时，这可能很重要。 例如：A和B之间的间隔称为主要秒，而A和Cb之间的间隔称为减小的三分之一。 \n",
    "\n",
    "diatonic.int_to_note在转换时做得更好。\n",
    "\n",
    "无论如何，如果您理论上不关心声音转换或不需要区分，则此功能很好（毕竟听起来一样）：\n"
   ]
  },
  {
   "cell_type": "markdown",
   "metadata": {},
   "source": [
    "** 帮助函数 **\n",
    "\n",
    "notes.augument('')可以提高输入半个音阶\n",
    "\n",
    "notes.diminish('')可以降低输入半音阶"
   ]
  },
  {
   "cell_type": "code",
   "execution_count": 37,
   "metadata": {},
   "outputs": [
    {
     "data": {
      "text/plain": [
       "'C##'"
      ]
     },
     "execution_count": 37,
     "metadata": {},
     "output_type": "execute_result"
    }
   ],
   "source": [
    "notes.augment(\"C#\")"
   ]
  },
  {
   "cell_type": "code",
   "execution_count": 38,
   "metadata": {},
   "outputs": [
    {
     "data": {
      "text/plain": [
       "'C'"
      ]
     },
     "execution_count": 38,
     "metadata": {},
     "output_type": "execute_result"
    }
   ],
   "source": [
    "notes.diminish(\"C#\")"
   ]
  },
  {
   "cell_type": "markdown",
   "metadata": {},
   "source": [
    "** 练习 **"
   ]
  },
  {
   "cell_type": "markdown",
   "metadata": {},
   "source": [
    "写一个函数，获取输入字符串，判断是否是合法音符，并返回一个与其相距5个 半音阶 的音符。"
   ]
  },
  {
   "cell_type": "code",
   "execution_count": 55,
   "metadata": {
    "collapsed": true
   },
   "outputs": [],
   "source": [
    "def judge_out(s):\n",
    "    if not notes.is_valid_note(s):\n",
    "        print(\"wrong input\")\n",
    "        return \n",
    "    num = notes.note_to_int(s)\n",
    "    return notes.int_to_note((num + 5) % 12) if num < 7 else notes.int_to_note((num - 5) % 12)"
   ]
  },
  {
   "cell_type": "code",
   "execution_count": 54,
   "metadata": {},
   "outputs": [
    {
     "data": {
      "text/plain": [
       "'F'"
      ]
     },
     "execution_count": 54,
     "metadata": {},
     "output_type": "execute_result"
    }
   ],
   "source": [
    "judge_out('C')"
   ]
  },
  {
   "cell_type": "markdown",
   "metadata": {},
   "source": [
    "# keys 指大调\n",
    "\n",
    "\n",
    "['Gb', 'Db', 'Ab', 'Eb', 'Bb', 'F', 'C', 'G', 'D', 'A', 'E', 'B', 'F#', 'C#', 'G#', 'D#', 'A#']"
   ]
  },
  {
   "cell_type": "markdown",
   "metadata": {},
   "source": [
    "# Notes in a Key 调中音阶组成"
   ]
  },
  {
   "cell_type": "markdown",
   "metadata": {},
   "source": [
    "C大调的zuc(\"C\")\n",
    "\n",
    "[\"C\", \"D\", \"E\", \"F\", \"G\", \"A\", \"B\"]\n",
    "\n",
    "diatonic.get_notes(\"E\")\n",
    "\n",
    "[\"E\", \"F#\", \"G#\", \"A\", \"B\", \"C#\", \"D#\"]\n",
    "\n",
    "diatonic.get_notes(\"Bb\")\n",
    "\n",
    "[\"Bb\", \"C\", \"D\", \"Eb\", \"F\", \"G\", \"A\"]"
   ]
  },
  {
   "cell_type": "markdown",
   "metadata": {},
   "source": [
    "# intervals 音程"
   ]
  },
  {
   "cell_type": "markdown",
   "metadata": {},
   "source": [
    "音乐理论中的音程描述了两个音符的音高之间的关系，是和弦和音阶的基础。\n",
    "\n",
    "该模块可用于建立任意间隔。 它还具有特殊的识别功能，可以确定两个音符之间的间隔。"
   ]
  },
  {
   "cell_type": "code",
   "execution_count": 70,
   "metadata": {
    "collapsed": true
   },
   "outputs": [],
   "source": [
    "import mingus.core.intervals as intervals"
   ]
  },
  {
   "cell_type": "markdown",
   "metadata": {},
   "source": [
    "** 相对间隔 **\n",
    "\n",
    "intervals.第n个（开始S，K大调）\n",
    "\n",
    "K大调S开始的第n个字符\n",
    "\n",
    "n--second~seven"
   ]
  },
  {
   "cell_type": "code",
   "execution_count": 74,
   "metadata": {},
   "outputs": [
    {
     "data": {
      "text/plain": [
       "'D'"
      ]
     },
     "execution_count": 74,
     "metadata": {},
     "output_type": "execute_result"
    }
   ],
   "source": [
    "intervals.second(\"C\", \"A\")"
   ]
  },
  {
   "cell_type": "code",
   "execution_count": 75,
   "metadata": {},
   "outputs": [
    {
     "data": {
      "text/plain": [
       "'B'"
      ]
     },
     "execution_count": 75,
     "metadata": {},
     "output_type": "execute_result"
    }
   ],
   "source": [
    "intervals.seventh(\"C\", \"C\")"
   ]
  },
  {
   "cell_type": "markdown",
   "metadata": {},
   "source": [
    "** 绝对间隔 **"
   ]
  },
  {
   "cell_type": "code",
   "execution_count": 83,
   "metadata": {},
   "outputs": [
    {
     "data": {
      "text/plain": [
       "'C#'"
      ]
     },
     "execution_count": 83,
     "metadata": {},
     "output_type": "execute_result"
    }
   ],
   "source": [
    "intervals.major_third(\"A\")"
   ]
  },
  {
   "cell_type": "code",
   "execution_count": 81,
   "metadata": {},
   "outputs": [
    {
     "data": {
      "text/plain": [
       "'Ebb'"
      ]
     },
     "execution_count": 81,
     "metadata": {},
     "output_type": "execute_result"
    }
   ],
   "source": [
    "intervals.minor_third(\"Cb\")"
   ]
  },
  {
   "cell_type": "markdown",
   "metadata": {},
   "source": [
    "** 方便写法 **\n",
    "\n",
    "shorthand ~ 简写"
   ]
  },
  {
   "cell_type": "code",
   "execution_count": 85,
   "metadata": {},
   "outputs": [
    {
     "data": {
      "text/plain": [
       "'E'"
      ]
     },
     "execution_count": 85,
     "metadata": {},
     "output_type": "execute_result"
    }
   ],
   "source": [
    "intervals.from_shorthand(\"C\", \"3\")\n",
    "# C大调第三个"
   ]
  },
  {
   "cell_type": "code",
   "execution_count": 89,
   "metadata": {},
   "outputs": [
    {
     "data": {
      "text/plain": [
       "'Eb'"
      ]
     },
     "execution_count": 89,
     "metadata": {},
     "output_type": "execute_result"
    }
   ],
   "source": [
    "intervals.from_shorthand(\"C\", \"bb#3\")\n",
    "# 直接加bb#的化简"
   ]
  },
  {
   "cell_type": "code",
   "execution_count": 93,
   "metadata": {},
   "outputs": [
    {
     "data": {
      "text/plain": [
       "'G##'"
      ]
     },
     "execution_count": 93,
     "metadata": {},
     "output_type": "execute_result"
    }
   ],
   "source": [
    "intervals.from_shorthand(\"C\", \"bb4\", False)\n",
    "# 从后往前第三个 bb相当于##"
   ]
  },
  {
   "cell_type": "code",
   "execution_count": 95,
   "metadata": {},
   "outputs": [
    {
     "name": "stdout",
     "output_type": "stream",
     "text": [
      "midi.Pattern(format=1, resolution=220, tracks=\\\n",
      "[midi.Track(\\\n",
      "  [midi.NoteOnEvent(tick=0, channel=0, data=[43, 20]),\n",
      "   midi.NoteOffEvent(tick=100, channel=0, data=[43, 0]),\n",
      "   midi.EndOfTrackEvent(tick=1, data=[])])])\n"
     ]
    }
   ],
   "source": [
    "import midi\n",
    "# Instantiate a MIDI Pattern (contains a list of tracks)\n",
    "pattern = midi.Pattern()\n",
    "# Instantiate a MIDI Track (contains a list of MIDI events)\n",
    "track = midi.Track()\n",
    "# Append the track to the pattern\n",
    "pattern.append(track)\n",
    "# Instantiate a MIDI note on event, append it to the track\n",
    "on = midi.NoteOnEvent(tick=0, velocity=20, pitch=midi.G_3)\n",
    "track.append(on)\n",
    "# Instantiate a MIDI note off event, append it to the track\n",
    "off = midi.NoteOffEvent(tick=100, pitch=midi.G_3)\n",
    "track.append(off)\n",
    "# Add the end of track event, append it to the track\n",
    "eot = midi.EndOfTrackEvent(tick=1)\n",
    "track.append(eot)\n",
    "# Print out the pattern\n",
    "print(pattern)\n",
    "# Save the pattern to disk\n",
    "midi.write_midifile(\"example.mid\", pattern)"
   ]
  },
  {
   "cell_type": "code",
   "execution_count": 99,
   "metadata": {
    "collapsed": true
   },
   "outputs": [],
   "source": []
  },
  {
   "cell_type": "code",
   "execution_count": null,
   "metadata": {
    "collapsed": true
   },
   "outputs": [],
   "source": []
  }
 ],
 "metadata": {
  "kernelspec": {
   "display_name": "Python 3",
   "language": "python",
   "name": "python3"
  },
  "language_info": {
   "codemirror_mode": {
    "name": "ipython",
    "version": 3
   },
   "file_extension": ".py",
   "mimetype": "text/x-python",
   "name": "python",
   "nbconvert_exporter": "python",
   "pygments_lexer": "ipython3",
   "version": "3.6.3"
  }
 },
 "nbformat": 4,
 "nbformat_minor": 2
}
